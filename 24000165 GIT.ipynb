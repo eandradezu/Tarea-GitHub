{
 "cells": [
  {
   "cell_type": "markdown",
   "id": "28088f01-9e5e-47d6-8902-6f97cce580e5",
   "metadata": {},
   "source": [
    "# GIT"
   ]
  },
  {
   "cell_type": "markdown",
   "id": "5289cdab-2e7f-4afd-977a-b81a47d62707",
   "metadata": {
    "tags": []
   },
   "source": [
    "Sistema de control de versiones de acceso gratuito diseñado para manejar proyectos, desde pequeños hasta de gran escala, con velocidad y eficiencia. Es particularmente útil para que varia personas hagan cambios a un mismo documento.\n",
    "\n",
    "Permite:\n",
    "    Crear ramas (*branches*) desde una copia principal de archivos en la que tu equipo está trabajando.\n",
    "    Hacer ediciones independientes y seguras en tu rama personal\n",
    "    Consolidar los cambios de diversos usuarios de manera inteligente, para que los cambios de un usuario no afecten el trabajo de otro.\n",
    "    Llevar registro del trabajo de cada usuario, para que todos trabajen en la última versión del proyecto."
   ]
  },
  {
   "cell_type": "markdown",
   "id": "e4e55076-0bdf-4120-b2b1-205d654de902",
   "metadata": {},
   "source": [
    "# GitHub"
   ]
  },
  {
   "cell_type": "markdown",
   "id": "08f854e1-ba09-4af2-871b-6ba0f589f6f9",
   "metadata": {},
   "source": [
    "Plataforma basada en la nube (*cluod-based*) para almacenar, compartir y trabajar colaborativamente para escribir código. GitHub está construida en Git\n",
    "\n",
    "Permite: \n",
    "    Mostrar o compartir tu trabajo\n",
    "    Dar seguimiento y gestionar tu código a lo largo del tiempo\n",
    "    Permitir a otros revisar tu código y hacer sugerencias para mejorarlo\n",
    "    Colaborar en un proyecto compartido, sin preocuparte que tus cambios alteren el trabajo de tus colegas antes de integrarlos\n",
    "    "
   ]
  },
  {
   "cell_type": "markdown",
   "id": "d6849f85-41af-4aae-95bb-e6c685c6685d",
   "metadata": {},
   "source": [
    "# Magic cells"
   ]
  },
  {
   "cell_type": "markdown",
   "id": "a8c31e1e-f40c-4fcc-9bca-c60bfe8cd130",
   "metadata": {},
   "source": [
    "Comandos especiales que pueden utilizarse en celdas de Jupyter, dentro de Python. No son código válido de Python, pero afectan el comportamiento del notebook.\n",
    "Utilizan el símbolo '%' \n",
    "\n",
    "Algunos ejemplos:\n",
    "'%matplotlib inline'\n",
    "    mantiene los plots dentro de las celdas, que de otra forma saltarian como ventanas externas.\n",
    "'%load'\n",
    "    carga un módulo de Python, una página web o un archivo en un notebook de Jupyter.\n",
    "'%run'\n",
    "    se utiliza, seguido del nombre de un archivo de Python, para correr dicho archivo como script."
   ]
  }
 ],
 "metadata": {
  "kernelspec": {
   "display_name": "Python 3 (ipykernel)",
   "language": "python",
   "name": "python3"
  },
  "language_info": {
   "codemirror_mode": {
    "name": "ipython",
    "version": 3
   },
   "file_extension": ".py",
   "mimetype": "text/x-python",
   "name": "python",
   "nbconvert_exporter": "python",
   "pygments_lexer": "ipython3",
   "version": "3.11.5"
  }
 },
 "nbformat": 4,
 "nbformat_minor": 5
}
